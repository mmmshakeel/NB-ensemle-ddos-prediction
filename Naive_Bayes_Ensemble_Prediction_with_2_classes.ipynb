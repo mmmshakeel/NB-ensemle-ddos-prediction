{
  "cells": [
    {
      "cell_type": "markdown",
      "metadata": {
        "id": "view-in-github",
        "colab_type": "text"
      },
      "source": [
        "<a href=\"https://colab.research.google.com/github/mmmshakeel/NB-ensemle-ddos-prediction/blob/main/Naive_Bayes_Ensemble_Prediction_with_2_classes.ipynb\" target=\"_parent\"><img src=\"https://colab.research.google.com/assets/colab-badge.svg\" alt=\"Open In Colab\"/></a>"
      ]
    },
    {
      "cell_type": "code",
      "execution_count": null,
      "metadata": {
        "id": "B8_pZndT4FQm"
      },
      "outputs": [],
      "source": [
        "import numpy as np\n",
        "import pandas as pd\n",
        "import os\n",
        "from sklearn.model_selection import train_test_split\n",
        "from sklearn.naive_bayes import GaussianNB\n",
        "from sklearn.metrics import accuracy_score, classification_report\n",
        "from scipy.stats import mode\n",
        "from google.colab import drive"
      ]
    },
    {
      "cell_type": "code",
      "execution_count": null,
      "metadata": {
        "colab": {
          "base_uri": "https://localhost:8080/"
        },
        "id": "aFuO-WAj5RVp",
        "outputId": "b45fbbc5-9b36-4234-b60a-bed426d574a5"
      },
      "outputs": [
        {
          "output_type": "stream",
          "name": "stdout",
          "text": [
            "Mounted at /content/gdrive\n"
          ]
        }
      ],
      "source": [
        "# Mount Google drive to load datasets\n",
        "drive.mount('/content/gdrive')"
      ]
    },
    {
      "cell_type": "code",
      "execution_count": null,
      "metadata": {
        "id": "n1cXX3xk4kH_",
        "colab": {
          "base_uri": "https://localhost:8080/"
        },
        "outputId": "cc0b1974-e896-4dfe-8b53-271c9a3a582f"
      },
      "outputs": [
        {
          "output_type": "stream",
          "name": "stdout",
          "text": [
            "   Unnamed: 0  flow_duration  Header_Length  Protocol Type  Duration  \\\n",
            "0           0       0.000000          54.00           6.00     64.00   \n",
            "1           1       0.000000          57.04           6.33     64.00   \n",
            "2           2       0.000000           0.00           1.00     64.00   \n",
            "3           3       0.328175       76175.00          17.00     64.00   \n",
            "4           4       0.117320         101.73           6.11     65.91   \n",
            "\n",
            "          Rate        Srate  Drate  fin_flag_number  syn_flag_number  ...  \\\n",
            "0     0.329807     0.329807    0.0              1.0              0.0  ...   \n",
            "1     4.290556     4.290556    0.0              0.0              0.0  ...   \n",
            "2    33.396799    33.396799    0.0              0.0              0.0  ...   \n",
            "3  4642.133010  4642.133010    0.0              0.0              0.0  ...   \n",
            "4     6.202211     6.202211    0.0              0.0              1.0  ...   \n",
            "\n",
            "         Std  Tot size           IAT  Number   Magnitue     Radius  \\\n",
            "0   0.000000     54.00  8.334383e+07     9.5  10.392305   0.000000   \n",
            "1   2.822973     57.04  8.292607e+07     9.5  10.464666   4.010353   \n",
            "2   0.000000     42.00  8.312799e+07     9.5   9.165151   0.000000   \n",
            "3   0.000000     50.00  8.301570e+07     9.5  10.000000   0.000000   \n",
            "4  23.113111     57.88  8.297300e+07     9.5  11.346876  32.716243   \n",
            "\n",
            "    Covariance  Variance  Weight     label  \n",
            "0     0.000000      0.00  141.55      DDoS  \n",
            "1   160.987842      0.05  141.55  Non-DDoS  \n",
            "2     0.000000      0.00  141.55      DDoS  \n",
            "3     0.000000      0.00  141.55  Non-DDoS  \n",
            "4  3016.808286      0.19  141.55  Non-DDoS  \n",
            "\n",
            "[5 rows x 48 columns]\n"
          ]
        }
      ],
      "source": [
        "# Load the dataset (adjust this part according to your dataset format and file location)\n",
        "df = pd.read_csv('/content/gdrive/MyDrive/[03] Study/Colab Notebooks/Datasets/CICIoT_2023_2_labels/part-00000-363d1ba3-8ab5-4f96-bc25-4d5862db7cb9-c000.csv')\n",
        "print(df.head())"
      ]
    },
    {
      "cell_type": "code",
      "execution_count": null,
      "metadata": {
        "id": "8_gXddhAIkZc"
      },
      "outputs": [],
      "source": [
        "# List of selected features\n",
        "selected_features = ['IAT', 'Tot sum', 'Tot size', 'AVG', 'flow_duration', 'Magnitue',\n",
        "                     'Header_Length', 'Max', 'Min', 'Protocol Type', 'Rate', 'Srate', 'Radius',\n",
        "                     'Covariance', 'rst_count', 'urg_count', 'Duration', 'Weight', 'Std', 'ICMP',\n",
        "                     'Variance', 'ack_flag_number', 'Number', 'UDP', 'syn_count', 'fin_count']\n",
        "\n",
        "target_variable = 'label'\n",
        "\n",
        "# Number of models in the ensemble\n",
        "n_models = 10\n",
        "models = [GaussianNB() for _ in range(n_models)]\n",
        "\n",
        "os.chdir('/content/gdrive/MyDrive/[03] Study/Colab Notebooks/Datasets/CICIoT_2023_2_labels/');\n",
        "\n",
        "# For each dataset...\n",
        "for filename in os.listdir():\n",
        "    if filename.endswith('.csv'):\n",
        "        # Read each csv file and append to list\n",
        "        df = pd.read_csv(filename)\n",
        "\n",
        "        # Extract the features and target variable\n",
        "        X = df[selected_features]\n",
        "        y = df[target_variable]\n",
        "\n",
        "        # Split the dataset into training and test sets\n",
        "        X_train, X_test, y_train, y_test = train_test_split(X, y, test_size=0.3, random_state=42)\n",
        "\n",
        "        # If it's the first dataset, initialize models\n",
        "        if not models:\n",
        "            models = [GaussianNB() for _ in range(n_models)]\n",
        "\n",
        "        # Train each model on the dataset\n",
        "        for model in models:\n",
        "            boot_indices = np.random.randint(0, len(X_train), len(X_train))\n",
        "            X_boot = X_train.iloc[boot_indices]\n",
        "            y_boot = y_train.iloc[boot_indices]\n",
        "            model.fit(X_boot, y_boot)\n"
      ]
    },
    {
      "cell_type": "code",
      "source": [
        "from statistics import mode\n",
        "\n",
        "os.chdir('/content/gdrive/MyDrive/[03] Study/Colab Notebooks/Datasets/CICIoT_2023_2_labels/');\n",
        "filename = 'part-00028-363d1ba3-8ab5-4f96-bc25-4d5862db7cb9-c000.csv'\n",
        "\n",
        "# Make predictions with each model\n",
        "test_df = pd.read_csv(filename)\n",
        "\n",
        "X_test = test_df[selected_features]\n",
        "y_test = test_df[target_variable]\n",
        "\n",
        "predictions = [model.predict(X_test) for model in models]\n",
        "\n",
        "# Compute the mode of the predictions\n",
        "predictions_transposed = np.array(predictions).T\n",
        "ensemble_predictions = [mode(pred) for pred in predictions_transposed]\n",
        "\n",
        "ensemble_predictions_np = np.array(ensemble_predictions)\n",
        "\n",
        "# Evaluating the ensemble model\n",
        "accuracy = accuracy_score(y_test, ensemble_predictions_np)\n",
        "print(f\"Ensemble Accuracy: {accuracy}\")\n",
        "print(classification_report(y_test, ensemble_predictions_np))\n"
      ],
      "metadata": {
        "colab": {
          "base_uri": "https://localhost:8080/"
        },
        "id": "5cOmU9LPaFqv",
        "outputId": "5fd0cc78-4885-4f8a-ac07-037ab7730409"
      },
      "execution_count": null,
      "outputs": [
        {
          "output_type": "stream",
          "name": "stdout",
          "text": [
            "Ensemble Accuracy: 0.7668981988257538\n",
            "              precision    recall  f1-score   support\n",
            "\n",
            "        DDoS       0.77      0.97      0.86    183070\n",
            "    Non-DDoS       0.72      0.23      0.35     68155\n",
            "\n",
            "    accuracy                           0.77    251225\n",
            "   macro avg       0.75      0.60      0.60    251225\n",
            "weighted avg       0.76      0.77      0.72    251225\n",
            "\n"
          ]
        }
      ]
    },
    {
      "cell_type": "code",
      "source": [
        "from scipy.stats import mode\n",
        "from sklearn.preprocessing import LabelEncoder\n",
        "\n",
        "predictions2 = np.array(predictions)\n",
        "\n",
        "# Use label encoding to convert string class labels to numerical labels\n",
        "label_encoder = LabelEncoder()\n",
        "predictions_encoded = np.apply_along_axis(label_encoder.fit_transform, 1, predictions2)\n",
        "\n",
        "# Use mode to find the most common prediction for each instance\n",
        "majority_vote, _ = mode(predictions_encoded, axis=0)\n",
        "\n",
        "# Flatten the array to get a 1D list of predictions\n",
        "majority_vote = majority_vote.flatten()\n",
        "\n",
        "# Decode the numerical labels back to original string labels\n",
        "majority_vote_labels = label_encoder.inverse_transform(majority_vote)\n",
        "\n",
        "# Evaluate the ensemble model\n",
        "ensemble_accuracy = accuracy_score(y_test, majority_vote_labels)\n",
        "print(f'Ensemble accuracy: {ensemble_accuracy:.2f}')\n",
        "print(f'Ensemble accuracy: {ensemble_accuracy}')\n",
        "print(classification_report(y_test, majority_vote_labels, zero_division=0))"
      ],
      "metadata": {
        "colab": {
          "base_uri": "https://localhost:8080/"
        },
        "id": "T4_1ZKhOryhs",
        "outputId": "b01905a7-9d83-4223-bc39-3dd02637d41d"
      },
      "execution_count": null,
      "outputs": [
        {
          "output_type": "stream",
          "name": "stdout",
          "text": [
            "Ensemble accuracy: 0.77\n",
            "Ensemble accuracy: 0.7666855917234419\n",
            "              precision    recall  f1-score   support\n",
            "\n",
            "        DDoS       0.77      0.97      0.86    161784\n",
            "    Non-DDoS       0.72      0.23      0.35     60144\n",
            "\n",
            "    accuracy                           0.77    221928\n",
            "   macro avg       0.75      0.60      0.60    221928\n",
            "weighted avg       0.76      0.77      0.72    221928\n",
            "\n"
          ]
        }
      ]
    },
    {
      "cell_type": "code",
      "source": [
        "import joblib\n",
        "\n",
        "os.chdir('/content/gdrive/MyDrive/[03] Study/Colab Notebooks/Trained Models')\n",
        "\n",
        "# Save each model to disk\n",
        "for idx, model in enumerate(models):\n",
        "    filename = f'naive_bayes_model_{idx}.joblib'\n",
        "    joblib.dump(model, filename)\n"
      ],
      "metadata": {
        "id": "Hwd-cHJnMOaa"
      },
      "execution_count": null,
      "outputs": []
    }
  ],
  "metadata": {
    "colab": {
      "provenance": [],
      "authorship_tag": "ABX9TyNLzu9eRZvJWB1mKgfHrzH8",
      "include_colab_link": true
    },
    "kernelspec": {
      "display_name": "Python 3",
      "language": "python",
      "name": "python3"
    },
    "language_info": {
      "codemirror_mode": {
        "name": "ipython",
        "version": 3
      },
      "file_extension": ".py",
      "mimetype": "text/x-python",
      "name": "python",
      "nbconvert_exporter": "python",
      "pygments_lexer": "ipython3",
      "version": "3.8.5"
    }
  },
  "nbformat": 4,
  "nbformat_minor": 0
}